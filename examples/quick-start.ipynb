{
 "cells": [
  {
   "cell_type": "markdown",
   "id": "3f2c9098",
   "metadata": {},
   "source": [
    "# Example to retrieve bitinformation"
   ]
  },
  {
   "cell_type": "code",
   "execution_count": null,
   "id": "0f7e319d-8e1c-4116-8ea3-59349e26fdad",
   "metadata": {},
   "outputs": [],
   "source": [
    "import bitinformation_pipeline as bp\n",
    "\n",
    "import xarray as xr\n",
    "\n",
    "xr.set_options(display_style=\"text\")"
   ]
  },
  {
   "cell_type": "code",
   "execution_count": null,
   "id": "b6f1bcc1-fb6b-47d5-9603-5a915a04f768",
   "metadata": {},
   "outputs": [],
   "source": [
    "ds = xr.tutorial.load_dataset(\"eraint_uvz\")\n",
    "ds"
   ]
  },
  {
   "cell_type": "markdown",
   "id": "822d7b08",
   "metadata": {},
   "source": [
    "## Get information content per bit\n",
    "\n",
    "using `bp.get_bitinformation(ds)`"
   ]
  },
  {
   "cell_type": "code",
   "execution_count": null,
   "id": "1057cc3b",
   "metadata": {},
   "outputs": [],
   "source": [
    "bitinfo = bp.get_bitinformation(ds, dim=\"longitude\")"
   ]
  },
  {
   "cell_type": "code",
   "execution_count": null,
   "id": "17b051b4",
   "metadata": {},
   "outputs": [],
   "source": [
    "bitinfo"
   ]
  },
  {
   "cell_type": "markdown",
   "id": "c14645a5",
   "metadata": {},
   "source": [
    "## Get keepbits\n",
    "\n",
    "using `bp.get_bitinformation(ds, bitinfo)`"
   ]
  },
  {
   "cell_type": "code",
   "execution_count": null,
   "id": "5385105d",
   "metadata": {},
   "outputs": [],
   "source": [
    "bp.get_keepbits(ds, bitinfo, 0.99)"
   ]
  },
  {
   "cell_type": "markdown",
   "id": "bdfd9186",
   "metadata": {},
   "source": [
    "## Visualize information content"
   ]
  },
  {
   "cell_type": "code",
   "execution_count": null,
   "id": "05d43ae8",
   "metadata": {},
   "outputs": [],
   "source": [
    "fig = bp.plot_bitinformation(ds, bitinfo)"
   ]
  },
  {
   "cell_type": "code",
   "execution_count": null,
   "id": "1b12cd26-9bfa-4f84-8ae3-923dc16c32d6",
   "metadata": {},
   "outputs": [],
   "source": []
  }
 ],
 "metadata": {
  "kernelspec": {
   "display_name": "bitinfo",
   "language": "python",
   "name": "bitinfo"
  },
  "language_info": {
   "codemirror_mode": {
    "name": "ipython",
    "version": 3
   },
   "file_extension": ".py",
   "mimetype": "text/x-python",
   "name": "python",
   "nbconvert_exporter": "python",
   "pygments_lexer": "ipython3",
   "version": "3.10.4"
  },
  "toc-autonumbering": true
 },
 "nbformat": 4,
 "nbformat_minor": 5
}
