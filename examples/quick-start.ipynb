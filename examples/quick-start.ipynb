{
 "cells": [
  {
   "cell_type": "markdown",
   "id": "3f2c9098",
   "metadata": {},
   "source": [
    "# Example to retrieve bitinformation"
   ]
  },
  {
   "cell_type": "code",
   "execution_count": null,
   "id": "ce5606f8",
   "metadata": {},
   "outputs": [],
   "source": [
    "import bitinformation_pipeline as bp"
   ]
  },
  {
   "cell_type": "markdown",
   "id": "b1af1de1",
   "metadata": {},
   "source": [
    "## Download testdata"
   ]
  },
  {
   "cell_type": "code",
   "execution_count": null,
   "id": "f2291bbd",
   "metadata": {},
   "outputs": [],
   "source": [
    "!curl -o tos_O1_2001-2002.nc https://www.unidata.ucar.edu/software/netcdf/examples/tos_O1_2001-2002.nc"
   ]
  },
  {
   "cell_type": "markdown",
   "id": "822d7b08",
   "metadata": {},
   "source": [
    "## Get information content per bit"
   ]
  },
  {
   "cell_type": "code",
   "execution_count": null,
   "id": "17ed6911-f0f4-4f15-aae6-f35adf4def65",
   "metadata": {},
   "outputs": [],
   "source": [
    "import xarray as xr\n",
    "\n",
    "xr.set_options(display_style=\"text\")"
   ]
  },
  {
   "cell_type": "code",
   "execution_count": null,
   "id": "b6f1bcc1-fb6b-47d5-9603-5a915a04f768",
   "metadata": {},
   "outputs": [],
   "source": [
    "ds = xr.open_dataset(\"tos_O1_2001-2002.nc\")"
   ]
  },
  {
   "cell_type": "code",
   "execution_count": null,
   "id": "a04ef8c6-74a8-46b5-a538-855ef865b9eb",
   "metadata": {},
   "outputs": [],
   "source": [
    "ds = ds.drop([\"lon_bnds\", \"lat_bnds\", \"time_bnds\"])"
   ]
  },
  {
   "cell_type": "code",
   "execution_count": null,
   "id": "e30db387-7311-4663-83ba-d6da3a63b135",
   "metadata": {},
   "outputs": [],
   "source": [
    "ds"
   ]
  },
  {
   "cell_type": "code",
   "execution_count": null,
   "id": "1057cc3b",
   "metadata": {},
   "outputs": [],
   "source": [
    "bitinfo = bp.get_bitinformation(ds)"
   ]
  },
  {
   "cell_type": "code",
   "execution_count": null,
   "id": "17b051b4",
   "metadata": {},
   "outputs": [],
   "source": [
    "bitinfo"
   ]
  },
  {
   "cell_type": "markdown",
   "id": "bdfd9186",
   "metadata": {},
   "source": [
    "### Visualize information content"
   ]
  },
  {
   "cell_type": "code",
   "execution_count": null,
   "id": "1f4ddb29",
   "metadata": {},
   "outputs": [],
   "source": [
    "%matplotlib inline"
   ]
  },
  {
   "cell_type": "code",
   "execution_count": null,
   "id": "05d43ae8",
   "metadata": {},
   "outputs": [],
   "source": [
    "fig = bp.plot_bitinformation(ds, bitinfo)"
   ]
  },
  {
   "cell_type": "markdown",
   "id": "c14645a5",
   "metadata": {},
   "source": [
    "## Get keepbits"
   ]
  },
  {
   "cell_type": "code",
   "execution_count": null,
   "id": "5385105d",
   "metadata": {},
   "outputs": [],
   "source": [
    "bp.get_keepbits(ds, bitinfo, 0.99)"
   ]
  }
 ],
 "metadata": {
  "kernelspec": {
   "display_name": "bitinfo",
   "language": "python",
   "name": "bitinfo"
  },
  "language_info": {
   "codemirror_mode": {
    "name": "ipython",
    "version": 3
   },
   "file_extension": ".py",
   "mimetype": "text/x-python",
   "name": "python",
   "nbconvert_exporter": "python",
   "pygments_lexer": "ipython3",
   "version": "3.10.4"
  }
 },
 "nbformat": 4,
 "nbformat_minor": 5
}
